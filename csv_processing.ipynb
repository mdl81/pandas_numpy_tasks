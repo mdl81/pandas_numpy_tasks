{
 "cells": [
  {
   "cell_type": "code",
   "execution_count": 5,
   "id": "df89a246",
   "metadata": {},
   "outputs": [],
   "source": [
    "import pandas as pd"
   ]
  },
  {
   "cell_type": "code",
   "execution_count": 39,
   "id": "53ba0506",
   "metadata": {},
   "outputs": [
    {
     "data": {
      "text/html": [
       "<div>\n",
       "<style scoped>\n",
       "    .dataframe tbody tr th:only-of-type {\n",
       "        vertical-align: middle;\n",
       "    }\n",
       "\n",
       "    .dataframe tbody tr th {\n",
       "        vertical-align: top;\n",
       "    }\n",
       "\n",
       "    .dataframe thead th {\n",
       "        text-align: right;\n",
       "    }\n",
       "</style>\n",
       "<table border=\"1\" class=\"dataframe\">\n",
       "  <thead>\n",
       "    <tr style=\"text-align: right;\">\n",
       "      <th></th>\n",
       "      <th>0</th>\n",
       "      <th>1</th>\n",
       "      <th>2</th>\n",
       "      <th>3</th>\n",
       "      <th>4</th>\n",
       "      <th>5</th>\n",
       "      <th>6</th>\n",
       "      <th>7</th>\n",
       "      <th>8</th>\n",
       "      <th>9</th>\n",
       "      <th>...</th>\n",
       "      <th>14</th>\n",
       "      <th>15</th>\n",
       "      <th>16</th>\n",
       "      <th>17</th>\n",
       "      <th>18</th>\n",
       "      <th>19</th>\n",
       "      <th>20</th>\n",
       "      <th>21</th>\n",
       "      <th>22</th>\n",
       "      <th>23</th>\n",
       "    </tr>\n",
       "  </thead>\n",
       "  <tbody>\n",
       "    <tr>\n",
       "      <th>0</th>\n",
       "      <td>0</td>\n",
       "      <td>We are running \"Programmatic Flow\", you need t...</td>\n",
       "      <td>Error</td>\n",
       "      <td>/BuildNotice/0</td>\n",
       "      <td>SayolloSDK.Scripts.Domain.Logger.SayolloMode</td>\n",
       "      <td>realme RMX2103</td>\n",
       "      <td>OpenGLES2</td>\n",
       "      <td>1.0</td>\n",
       "      <td>1.10.2</td>\n",
       "      <td>False</td>\n",
       "      <td>...</td>\n",
       "      <td>611be843d5491c7d0a6ab0ce</td>\n",
       "      <td>com.thg.battleops.shooting.game</td>\n",
       "      <td>1.0</td>\n",
       "      <td>iv</td>\n",
       "      <td>Android OS 11 / API-30 (RKQ1.201217.002/162424...</td>\n",
       "      <td>d6742b97-5638-4c97-8d59-5b538a4ddb02</td>\n",
       "      <td>True</td>\n",
       "      <td>False</td>\n",
       "      <td>KZ</td>\n",
       "      <td>1.631443e+09</td>\n",
       "    </tr>\n",
       "    <tr>\n",
       "      <th>1</th>\n",
       "      <td>0</td>\n",
       "      <td>could not receive ip address from ipfy</td>\n",
       "      <td>Error</td>\n",
       "      <td>/BuildNotice/0</td>\n",
       "      <td>SayolloSDK.Scripts.Domain.Logger.SayolloMode</td>\n",
       "      <td>asus ASUS_X00ID</td>\n",
       "      <td>OpenGLES2</td>\n",
       "      <td>1.0</td>\n",
       "      <td>1.10.2</td>\n",
       "      <td>False</td>\n",
       "      <td>...</td>\n",
       "      <td>611be843d5491c7d0a6ab0ce</td>\n",
       "      <td>com.thg.battleops.shooting.game</td>\n",
       "      <td>1.0</td>\n",
       "      <td>iv</td>\n",
       "      <td>Android OS 8.1.0 / API-27 (OPM1.171019.011/15....</td>\n",
       "      <td>564d0cfc-1492-473a-b00a-4aa7f82cbe3a</td>\n",
       "      <td>True</td>\n",
       "      <td>False</td>\n",
       "      <td>GE</td>\n",
       "      <td>1.631443e+09</td>\n",
       "    </tr>\n",
       "    <tr>\n",
       "      <th>2</th>\n",
       "      <td>0</td>\n",
       "      <td>could not receive ip address from ipfy</td>\n",
       "      <td>Error</td>\n",
       "      <td>/BuildNotice/0</td>\n",
       "      <td>SayolloSDK.Scripts.Domain.Logger.SayolloMode</td>\n",
       "      <td>samsung SM-T295</td>\n",
       "      <td>OpenGLES2</td>\n",
       "      <td>1.0</td>\n",
       "      <td>1.11.0</td>\n",
       "      <td>False</td>\n",
       "      <td>...</td>\n",
       "      <td>609d69021c511f4b1d4df1c4</td>\n",
       "      <td>com.pregnantcatemma.virtualpet</td>\n",
       "      <td>1.0</td>\n",
       "      <td>iv</td>\n",
       "      <td>Android OS 10 / API-29 (QP1A.190711.020/T295XX...</td>\n",
       "      <td>1a1dfbe5-c6bd-4a86-b2c4-8bbdb7a7343c</td>\n",
       "      <td>False</td>\n",
       "      <td>False</td>\n",
       "      <td>IN</td>\n",
       "      <td>1.631443e+09</td>\n",
       "    </tr>\n",
       "  </tbody>\n",
       "</table>\n",
       "<p>3 rows × 24 columns</p>\n",
       "</div>"
      ],
      "text/plain": [
       "   0                                                  1      2   \\\n",
       "0   0  We are running \"Programmatic Flow\", you need t...  Error   \n",
       "1   0             could not receive ip address from ipfy  Error   \n",
       "2   0             could not receive ip address from ipfy  Error   \n",
       "\n",
       "               3                                             4   \\\n",
       "0  /BuildNotice/0  SayolloSDK.Scripts.Domain.Logger.SayolloMode   \n",
       "1  /BuildNotice/0  SayolloSDK.Scripts.Domain.Logger.SayolloMode   \n",
       "2  /BuildNotice/0  SayolloSDK.Scripts.Domain.Logger.SayolloMode   \n",
       "\n",
       "                5          6    7       8      9   ...  \\\n",
       "0   realme RMX2103  OpenGLES2  1.0  1.10.2  False  ...   \n",
       "1  asus ASUS_X00ID  OpenGLES2  1.0  1.10.2  False  ...   \n",
       "2  samsung SM-T295  OpenGLES2  1.0  1.11.0  False  ...   \n",
       "\n",
       "                         14                               15   16  17  \\\n",
       "0  611be843d5491c7d0a6ab0ce  com.thg.battleops.shooting.game  1.0  iv   \n",
       "1  611be843d5491c7d0a6ab0ce  com.thg.battleops.shooting.game  1.0  iv   \n",
       "2  609d69021c511f4b1d4df1c4   com.pregnantcatemma.virtualpet  1.0  iv   \n",
       "\n",
       "                                                  18  \\\n",
       "0  Android OS 11 / API-30 (RKQ1.201217.002/162424...   \n",
       "1  Android OS 8.1.0 / API-27 (OPM1.171019.011/15....   \n",
       "2  Android OS 10 / API-29 (QP1A.190711.020/T295XX...   \n",
       "\n",
       "                                     19     20     21  22            23  \n",
       "0  d6742b97-5638-4c97-8d59-5b538a4ddb02   True  False  KZ  1.631443e+09  \n",
       "1  564d0cfc-1492-473a-b00a-4aa7f82cbe3a   True  False  GE  1.631443e+09  \n",
       "2  1a1dfbe5-c6bd-4a86-b2c4-8bbdb7a7343c  False  False  IN  1.631443e+09  \n",
       "\n",
       "[3 rows x 24 columns]"
      ]
     },
     "execution_count": 39,
     "metadata": {},
     "output_type": "execute_result"
    }
   ],
   "source": [
    "data = pd.read_csv(\"./data/output.csv\", header=None)\n",
    "data.head(3)"
   ]
  },
  {
   "cell_type": "code",
   "execution_count": 40,
   "id": "2ffe8ff3",
   "metadata": {},
   "outputs": [
    {
     "data": {
      "text/plain": [
       "(1261185, 24)"
      ]
     },
     "execution_count": 40,
     "metadata": {},
     "output_type": "execute_result"
    }
   ],
   "source": [
    "data.shape"
   ]
  },
  {
   "cell_type": "code",
   "execution_count": 41,
   "id": "26779ee0",
   "metadata": {},
   "outputs": [
    {
     "data": {
      "text/plain": [
       "(1255127, 24)"
      ]
     },
     "execution_count": 41,
     "metadata": {},
     "output_type": "execute_result"
    }
   ],
   "source": [
    "data = data[data[2] != 'severity']\n",
    "data.shape"
   ]
  },
  {
   "cell_type": "code",
   "execution_count": 42,
   "id": "b2cfec51",
   "metadata": {},
   "outputs": [],
   "source": [
    "data[4] = 'MobileSDK'"
   ]
  },
  {
   "cell_type": "code",
   "execution_count": 43,
   "id": "ee1b6d5e",
   "metadata": {},
   "outputs": [],
   "source": [
    "data_add = data.sample(frac=0.2)\n",
    "data_add[2] = 'Success'\n",
    "data_add[23] = a[23] + 600  # + 10 minutes"
   ]
  },
  {
   "cell_type": "code",
   "execution_count": 44,
   "id": "5d54ffe7",
   "metadata": {},
   "outputs": [
    {
     "data": {
      "text/plain": [
       "(1506152, 24)"
      ]
     },
     "execution_count": 44,
     "metadata": {},
     "output_type": "execute_result"
    }
   ],
   "source": [
    "result = pd.concat([data, data_add])\n",
    "result.shape"
   ]
  },
  {
   "cell_type": "code",
   "execution_count": 50,
   "id": "3516c0f9",
   "metadata": {},
   "outputs": [],
   "source": [
    "result.to_csv(\"./data/result.csv\", index=False, header=False)"
   ]
  }
 ],
 "metadata": {
  "kernelspec": {
   "display_name": "Python 3 (ipykernel)",
   "language": "python",
   "name": "python3"
  },
  "language_info": {
   "codemirror_mode": {
    "name": "ipython",
    "version": 3
   },
   "file_extension": ".py",
   "mimetype": "text/x-python",
   "name": "python",
   "nbconvert_exporter": "python",
   "pygments_lexer": "ipython3",
   "version": "3.8.10"
  }
 },
 "nbformat": 4,
 "nbformat_minor": 5
}
