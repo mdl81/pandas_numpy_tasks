{
 "cells": [
  {
   "cell_type": "markdown",
   "id": "d3df79dd",
   "metadata": {},
   "source": [
    "## Упражнения по библиотеке Numpy"
   ]
  },
  {
   "cell_type": "code",
   "execution_count": 2,
   "id": "76b9c43b",
   "metadata": {},
   "outputs": [],
   "source": [
    "import numpy as np"
   ]
  },
  {
   "cell_type": "markdown",
   "id": "03727b7c",
   "metadata": {},
   "source": [
    "**1.** Дан случайный массив, поменять знак у элементов, значения которых между 3 и 8"
   ]
  },
  {
   "cell_type": "code",
   "execution_count": 3,
   "id": "b89a7523",
   "metadata": {},
   "outputs": [
    {
     "name": "stdout",
     "output_type": "stream",
     "text": [
      "[5 1 8 1 4 4 3 9 6 9]\n",
      "[-5  1  8  1 -4 -4  3  9 -6  9]\n"
     ]
    }
   ],
   "source": [
    "ar = np.random.randint(1, 10, 10)\n",
    "print(ar)\n",
    "\n",
    "for i in range(0, len(ar)):\n",
    "    if 3 < ar[i] < 8:\n",
    "        ar[i] *= -1\n",
    "print(ar)"
   ]
  },
  {
   "cell_type": "markdown",
   "id": "5fa4abda",
   "metadata": {},
   "source": [
    "**2.** Заменить максимальный элемент случайного массива на 0"
   ]
  },
  {
   "cell_type": "code",
   "execution_count": 4,
   "id": "f2788a6e",
   "metadata": {},
   "outputs": [
    {
     "name": "stdout",
     "output_type": "stream",
     "text": [
      "[7 2 9 1 1 1 2 1 7 1]\n",
      "[7 2 0 1 1 1 2 1 7 1]\n"
     ]
    }
   ],
   "source": [
    "ar = np.random.randint(1, 10, 10)\n",
    "print(ar)\n",
    "\n",
    "max_val = np.max(ar)\n",
    "ar = np.array([i if i != max_val else 0 for i in ar])\n",
    "print(ar)"
   ]
  },
  {
   "cell_type": "markdown",
   "id": "3cac656b",
   "metadata": {},
   "source": [
    "**3.** Построить прямое произведение массивов (все комбинации с каждым элементом). На вход подается двумерный массив"
   ]
  },
  {
   "cell_type": "code",
   "execution_count": 5,
   "id": "3396b764",
   "metadata": {},
   "outputs": [
    {
     "name": "stdout",
     "output_type": "stream",
     "text": [
      "[[7 1]\n",
      " [7 2]] \n",
      "\n",
      "(7, 7)\n",
      "(7, 1)\n",
      "(7, 7)\n",
      "(7, 2)\n",
      "(1, 7)\n",
      "(1, 1)\n",
      "(1, 7)\n",
      "(1, 2)\n",
      "(7, 7)\n",
      "(7, 1)\n",
      "(7, 7)\n",
      "(7, 2)\n",
      "(2, 7)\n",
      "(2, 1)\n",
      "(2, 7)\n",
      "(2, 2)\n"
     ]
    }
   ],
   "source": [
    "import itertools as it\n",
    "import numpy as np\n",
    "\n",
    "array = np.random.randint(0, 10, [2, 2]) # np.array([[1, 2], [3, 4]])\n",
    "print(array, '\\n')\n",
    "\n",
    "combinations = it.product(array.flatten(), array.flatten())\n",
    "\n",
    "for combination in combinations:\n",
    "    print(combination)"
   ]
  },
  {
   "cell_type": "markdown",
   "id": "674c9354",
   "metadata": {},
   "source": [
    "**4.** Даны 2 массива A (8x3) и B (2x2). Найти строки в A, которые содержат элементы из каждой строки в B, независимо от порядка элементов в B"
   ]
  },
  {
   "cell_type": "code",
   "execution_count": 6,
   "id": "cb664782",
   "metadata": {},
   "outputs": [
    {
     "name": "stdout",
     "output_type": "stream",
     "text": [
      "[[4 6 0]\n",
      " [0 6 7]\n",
      " [0 1 7]\n",
      " [1 1 6]\n",
      " [2 0 0]\n",
      " [0 4 7]\n",
      " [7 7 0]\n",
      " [3 5 6]]\n",
      "\n",
      "[[0 3]\n",
      " [2 2]]\n",
      "\n",
      "[4]\n"
     ]
    }
   ],
   "source": [
    "A = np.random.randint(0, 8, (8, 3))\n",
    "B = np.random.randint(0, 4, (2, 2))\n",
    "\n",
    "C = (A[..., np.newaxis, np.newaxis] == B)\n",
    "rows = (C.sum(axis=(1, 2, 3)) >= B.shape[1]).nonzero()[0]\n",
    "print(A)\n",
    "print()\n",
    "print(B)\n",
    "print()\n",
    "print(rows)"
   ]
  },
  {
   "cell_type": "markdown",
   "id": "fa46533b",
   "metadata": {},
   "source": [
    "**5.** Дана 10x3 матрица, найти строки из неравных значений (например строка [2,2,3] остается, строка [3,3,3] удаляется)"
   ]
  },
  {
   "cell_type": "code",
   "execution_count": 7,
   "id": "fa545b23",
   "metadata": {},
   "outputs": [
    {
     "name": "stdout",
     "output_type": "stream",
     "text": [
      "[[1 1 1]\n",
      " [1 0 1]\n",
      " [0 0 1]\n",
      " [1 1 1]\n",
      " [1 0 1]\n",
      " [1 1 1]\n",
      " [1 0 0]\n",
      " [1 0 0]\n",
      " [0 1 0]\n",
      " [1 0 0]] \n",
      " row count: 10 \n",
      "\n",
      "[[1 0 1]\n",
      " [0 0 1]\n",
      " [1 0 1]\n",
      " [1 0 0]\n",
      " [1 0 0]\n",
      " [0 1 0]\n",
      " [1 0 0]] \n",
      " row count: 7\n"
     ]
    }
   ],
   "source": [
    "Z = np.random.randint(0, 2, (10, 3))\n",
    "E = np.logical_and.reduce(Z[:, 1:] == Z[:, :-1], axis=1)\n",
    "U = Z[~E]\n",
    "print(Z, '\\n', 'row count:', len(Z[:]), '\\n')\n",
    "print(U, '\\n', 'row count:', len(U[:]))"
   ]
  },
  {
   "cell_type": "markdown",
   "id": "28f0d116",
   "metadata": {},
   "source": [
    "**6.** Дан двумерный массив. Удалить те строки, которые повторяются"
   ]
  },
  {
   "cell_type": "code",
   "execution_count": 22,
   "id": "83d2c0b7",
   "metadata": {},
   "outputs": [
    {
     "name": "stdout",
     "output_type": "stream",
     "text": [
      "[[1 1 0]\n",
      " [0 0 0]\n",
      " [1 0 0]\n",
      " [0 1 0]\n",
      " [1 1 0]\n",
      " [1 1 0]\n",
      " [0 1 0]\n",
      " [1 1 0]\n",
      " [1 0 1]\n",
      " [0 1 0]] \n",
      "\n",
      "[[0 0 0]\n",
      " [0 1 0]\n",
      " [1 0 0]\n",
      " [1 0 1]\n",
      " [1 1 0]]\n"
     ]
    }
   ],
   "source": [
    "ar = np.random.randint(0, 2, (10, 3))\n",
    "ar_ = np.unique(ar, axis=0)\n",
    "print(ar, '\\n')\n",
    "print(ar_)"
   ]
  },
  {
   "cell_type": "markdown",
   "id": "6daa9e37",
   "metadata": {},
   "source": [
    "______\n",
    "______"
   ]
  },
  {
   "cell_type": "markdown",
   "id": "cfbfcaff",
   "metadata": {},
   "source": [
    "Для каждой из следующих задач (1-5) нужно привести 2 реализации – одна без использования numpy (cчитайте, что там, где на входе или выходе должны быть numpy array, будут просто списки), а вторая полностью векторизованная с использованием numpy (без использования питоновских циклов/map/list comprehension).\n",
    "\n",
    "\n",
    "__Замечание 1.__ Можно считать, что все указанные объекты непустые (к примеру, в __задаче 1__ на диагонали матрицы есть ненулевые элементы).\n",
    "\n",
    "__Замечание 2.__ Для большинства задач решение занимает не больше 1-2 строк."
   ]
  },
  {
   "cell_type": "markdown",
   "id": "673cac7f",
   "metadata": {},
   "source": [
    "___"
   ]
  },
  {
   "cell_type": "markdown",
   "id": "ca6f585e",
   "metadata": {},
   "source": [
    "* __Задача 1__: Подсчитать произведение ненулевых элементов на диагонали прямоугольной матрицы.  \n",
    " Например, для X = np.array([[1, 0, 1], [2, 0, 2], [3, 0, 3], [4, 4, 4]]) ответ 3."
   ]
  },
  {
   "cell_type": "code",
   "execution_count": 9,
   "id": "065862fc",
   "metadata": {},
   "outputs": [
    {
     "name": "stdout",
     "output_type": "stream",
     "text": [
      "3\n",
      "3\n"
     ]
    }
   ],
   "source": [
    "def numpy_1(X):    \n",
    "    X1 = np.diag(X)\n",
    "    X2 = X1[X1 != 0]\n",
    "    return X2.prod() # np.prod(np.diag(X)[np.diag(X) != 0])\n",
    "\n",
    "\n",
    "def python_1(X):\n",
    "    diag_nn = []\n",
    "    r, c = X.shape\n",
    "    cur_row = 0\n",
    "    for cur_col in range(c):\n",
    "        if cur_row < r and X[cur_row, cur_col] != 0:\n",
    "            diag_nn.append(X[cur_row, cur_col])\n",
    "        cur_row += 1\n",
    "\n",
    "    mult = None\n",
    "    for i in diag_nn:\n",
    "        if not mult:\n",
    "            mult = 1\n",
    "        mult *= i\n",
    "        \n",
    "    return mult\n",
    "    \n",
    "\n",
    "X = np.array([[1, 0, 1], [2, 0, 2], [3, 0, 3], [4, 4, 4]])\n",
    "print(numpy_1(X))\n",
    "print(python_1(X))"
   ]
  },
  {
   "cell_type": "markdown",
   "id": "9fc51d41",
   "metadata": {},
   "source": [
    "* __Задача 2__: Даны два вектора x и y. Проверить, задают ли они одно и то же мультимножество.  \n",
    "  Например, для x = np.array([1, 2, 2, 4]), y = np.array([4, 2, 1, 2]) ответ True."
   ]
  },
  {
   "cell_type": "code",
   "execution_count": 10,
   "id": "a809e02f",
   "metadata": {},
   "outputs": [
    {
     "name": "stdout",
     "output_type": "stream",
     "text": [
      "True\n",
      "True\n"
     ]
    }
   ],
   "source": [
    "def numpy_2(x, y):\n",
    "    x_nums, x_counts = np.unique(x, return_counts=True)\n",
    "    y_nums, y_counts = np.unique(y, return_counts=True)\n",
    "    \n",
    "    if(np.shape(x_nums) != np.shape(y_nums)):\n",
    "        return False\n",
    "    \n",
    "    if(np.any(x_nums != y_nums) or np.any(x_counts != y_counts)):\n",
    "        return False\n",
    "    \n",
    "    return True\n",
    "\n",
    "\n",
    "def python_2(x, y):\n",
    "    if len(x) != len(y):\n",
    "        return False\n",
    "\n",
    "    x.sort()\n",
    "    y.sort()\n",
    "    for i in range(len(x)):\n",
    "        if x[i] != y[i]:\n",
    "            return False\n",
    "    \n",
    "    return True\n",
    "\n",
    "\n",
    "x = np.array([1, 2, 2, 4])\n",
    "y = np.array([4, 2, 1, 2])\n",
    "print(numpy_2(x, y))\n",
    "print(python_2(x, y))"
   ]
  },
  {
   "cell_type": "markdown",
   "id": "b9c185c7",
   "metadata": {},
   "source": [
    "* __Задача 3__: Найти максимальный элемент в векторе x среди элементов, перед которыми стоит ноль. \n",
    " Например, для x = np.array([6, 2, 0, 3, 0, 0, 5, 7, 0]) ответ 5."
   ]
  },
  {
   "cell_type": "code",
   "execution_count": 11,
   "id": "b57df008",
   "metadata": {},
   "outputs": [
    {
     "name": "stdout",
     "output_type": "stream",
     "text": [
      "5\n",
      "5\n"
     ]
    }
   ],
   "source": [
    "def numpy_3(x):\n",
    "    a = np.where(x == 0)\n",
    "    b = np.array(a).flatten() + 1\n",
    "    c = b[b < len(x)]\n",
    "    return x[c].max()\n",
    "\n",
    "\n",
    "def python_3(x):\n",
    "    prev = None\n",
    "    maxi = None\n",
    "    for i in x:\n",
    "        if prev == None:\n",
    "            prev = i\n",
    "            continue\n",
    "\n",
    "        if prev == 0:\n",
    "            maxi = i if (maxi == None or i > maxi) else maxi\n",
    "        \n",
    "        prev = i\n",
    "    return maxi\n",
    "\n",
    "\n",
    "x = np.array([6, 2, 0, 3, 0, 0, 5, 7, 0])\n",
    "print(numpy_3(x))\n",
    "print(python_3(x))"
   ]
  },
  {
   "cell_type": "markdown",
   "id": "480be4ce",
   "metadata": {},
   "source": [
    "* __Задача 4__: Реализовать кодирование длин серий (Run-length encoding). Для некоторого вектора x необходимо вернуть кортеж из двух векторов одинаковой длины. Первый содержит числа, а второй - сколько раз их нужно повторить.  \n",
    " Например, для x = np.array([2, 2, 2, 3, 3, 3, 5]) ответ (np.array([2, 3, 5]), np.array([3, 3, 1]))."
   ]
  },
  {
   "cell_type": "code",
   "execution_count": 12,
   "id": "3c592124",
   "metadata": {},
   "outputs": [
    {
     "name": "stdout",
     "output_type": "stream",
     "text": [
      "(array([2, 3, 5]), array([3, 3, 1]))\n",
      "([2, 3, 5], [3, 3, 1])\n"
     ]
    }
   ],
   "source": [
    "def numpy_4(x):\n",
    "    return np.unique(x, return_counts=True)\n",
    "\n",
    "\n",
    "from collections import defaultdict\n",
    "def python_4(x):\n",
    "    d = defaultdict(int)\n",
    "    for i in x:\n",
    "        d[i] += 1\n",
    "    return list(d.keys()), list(d.values())\n",
    "\n",
    "\n",
    "x = np.array([2, 2, 2, 3, 3, 3, 5])\n",
    "print(numpy_4(x))\n",
    "print(python_4(x))"
   ]
  },
  {
   "cell_type": "markdown",
   "id": "077532ec",
   "metadata": {},
   "source": [
    "* __Задача 5__: Даны две выборки объектов - X и Y. Вычислить матрицу евклидовых расстояний между объектами. Сравните с функцией scipy.spatial.distance.cdist по скорости работы."
   ]
  },
  {
   "cell_type": "code",
   "execution_count": 29,
   "id": "1e807797",
   "metadata": {},
   "outputs": [
    {
     "name": "stdout",
     "output_type": "stream",
     "text": [
      "[[ 3.74165739  1.          7.07106781  7.68114575]\n",
      " [ 9.2736185  10.81665383  5.09901951  7.        ]\n",
      " [ 5.91607978  8.24621125  4.35889894  8.83176087]\n",
      " [ 6.70820393  7.61577311  8.77496439  5.09901951]\n",
      " [ 4.          6.55743852  6.63324958  5.74456265]] \t time(s):  6.937980651855469e-05\n",
      "[[ 3.7416574  1.         7.0710678  7.6811457]\n",
      " [ 9.2736185 10.8166538  5.0990195  7.       ]\n",
      " [ 5.9160798  8.2462113  4.3588989  8.8317609]\n",
      " [ 6.7082039  7.6157731  8.7749644  5.0990195]\n",
      " [ 4.         6.5574385  6.6332496  5.7445626]] \t time(s):  9.083747863769531e-05\n",
      "[[ 3.74165739  1.          7.07106781  7.68114575]\n",
      " [ 9.2736185  10.81665383  5.09901951  7.        ]\n",
      " [ 5.91607978  8.24621125  4.35889894  8.83176087]\n",
      " [ 6.70820393  7.61577311  8.77496439  5.09901951]\n",
      " [ 4.          6.55743852  6.63324958  5.74456265]] \t time(s):  5.459785461425781e-05\n"
     ]
    }
   ],
   "source": [
    "import math\n",
    "import scipy\n",
    "import time\n",
    "\n",
    "\n",
    "def numpy_5(a, b):\n",
    "    P = np.add.outer(np.sum(a ** 2, axis=1), np.sum(b ** 2, axis=1))\n",
    "    N = np.dot(a, b.T)\n",
    "    return np.sqrt(P - 2 * N)\n",
    "\n",
    "\n",
    "def python_5(a, b):\n",
    "    res = []\n",
    "    for i in range(len(a)):\n",
    "        curr_list = []\n",
    "        for j in range(len(b)):\n",
    "            distance = 0\n",
    "            for k in range(len(b[0])):\n",
    "                distance += (a[i][k] - b[j][k]) ** 2\n",
    "            curr_list.append(round(math.sqrt(distance), 7))\n",
    "        res.append(curr_list)\n",
    "    return np.array(res)\n",
    "\n",
    "\n",
    "a = np.random.randint(1, 10, (5, 3))\n",
    "b = np.random.randint(1, 10, (4, 3))\n",
    "\n",
    "\n",
    "start_time = time.time()\n",
    "print(numpy_5(a, b), '\\t time(s): ', (time.time() - start_time))\n",
    "\n",
    "start_time = time.time()\n",
    "print(python_5(a, b), '\\t time(s): ', (time.time() - start_time))\n",
    "\n",
    "start_time = time.time()\n",
    "print(scipy.spatial.distance.cdist(a, b, metric='euclidean'), '\\t time(s): ', (time.time() - start_time))"
   ]
  },
  {
   "cell_type": "markdown",
   "id": "973e8064",
   "metadata": {},
   "source": [
    "_______\n",
    "________"
   ]
  },
  {
   "cell_type": "markdown",
   "id": "1104acb7",
   "metadata": {},
   "source": [
    "* #### __Задача 6__: CrunchieMunchies __*__\n",
    "\n",
    "Вы работаете в отделе маркетинга пищевой компании MyCrunch, которая разрабатывает новый вид вкусных, полезных злаков под названием **CrunchieMunchies**.\n",
    "\n",
    "Вы хотите продемонстрировать потребителям, насколько полезны ваши хлопья по сравнению с другими ведущими брендами, поэтому вы собрали данные о питании нескольких разных конкурентов.\n",
    "\n",
    "Ваша задача - использовать вычисления Numpy для анализа этих данных и доказать, что ваши **СrunchieMunchies** - самый здоровый выбор для потребителей.\n"
   ]
  },
  {
   "cell_type": "code",
   "execution_count": 14,
   "id": "10a77f8d",
   "metadata": {},
   "outputs": [],
   "source": [
    "import numpy as np"
   ]
  },
  {
   "cell_type": "markdown",
   "id": "ab87cb03",
   "metadata": {},
   "source": [
    "1. Просмотрите файл cereal.csv. Этот файл содержит количества калорий для различных марок хлопьев. Загрузите данные из файла и сохраните их как calorie_stats."
   ]
  },
  {
   "cell_type": "code",
   "execution_count": 15,
   "id": "9681ebf2",
   "metadata": {},
   "outputs": [
    {
     "data": {
      "text/plain": [
       "array([ 70., 120.,  70.,  50., 110., 110., 110., 130.,  90.,  90., 120.,\n",
       "       110., 120., 110., 110., 110., 100., 110., 110., 110., 100., 110.,\n",
       "       100., 100., 110., 110., 100., 120., 120., 110., 100., 110., 100.,\n",
       "       110., 120., 120., 110., 110., 110., 140., 110., 100., 110., 100.,\n",
       "       150., 150., 160., 100., 120., 140.,  90., 130., 120., 100.,  50.,\n",
       "        50., 100., 100., 120., 100.,  90., 110., 110.,  80.,  90.,  90.,\n",
       "       110., 110.,  90., 110., 140., 100., 110., 110., 100., 100., 110.])"
      ]
     },
     "execution_count": 15,
     "metadata": {},
     "output_type": "execute_result"
    }
   ],
   "source": [
    "calorie_stats = np.loadtxt(\"./data/cereal.csv\", delimiter=\",\")\n",
    "calorie_stats"
   ]
  },
  {
   "cell_type": "markdown",
   "id": "139cfbd8",
   "metadata": {},
   "source": [
    "2. В одной порции CrunchieMunchies содержится 60 калорий. Насколько выше среднее количество калорий у ваших конкурентов?\n",
    "\n",
    "Сохраните ответ в переменной average_calories и распечатайте переменную в терминале"
   ]
  },
  {
   "cell_type": "code",
   "execution_count": 16,
   "id": "7036d240",
   "metadata": {},
   "outputs": [
    {
     "name": "stdout",
     "output_type": "stream",
     "text": [
      "46.883116883116884\n"
     ]
    }
   ],
   "source": [
    "calories_CrunchieMunchies = 60\n",
    "average_calories = np.mean(calorie_stats) - calories_CrunchieMunchies\n",
    "print(average_calories)"
   ]
  },
  {
   "cell_type": "markdown",
   "id": "b2ddb4cd",
   "metadata": {},
   "source": [
    "3. Корректно ли среднее количество калорий отражает распределение набора данных? Давайте отсортируем данные и посмотрим.\n",
    "\n",
    "Отсортируйте данные и сохраните результат в переменной calorie_stats_sorted. Распечатайте отсортированную информацию"
   ]
  },
  {
   "cell_type": "code",
   "execution_count": 17,
   "id": "46eeb4ed",
   "metadata": {},
   "outputs": [
    {
     "name": "stdout",
     "output_type": "stream",
     "text": [
      "[ 50.  50.  50.  70.  70.  80.  90.  90.  90.  90.  90.  90.  90. 100.\n",
      " 100. 100. 100. 100. 100. 100. 100. 100. 100. 100. 100. 100. 100. 100.\n",
      " 100. 100. 110. 110. 110. 110. 110. 110. 110. 110. 110. 110. 110. 110.\n",
      " 110. 110. 110. 110. 110. 110. 110. 110. 110. 110. 110. 110. 110. 110.\n",
      " 110. 110. 110. 120. 120. 120. 120. 120. 120. 120. 120. 120. 120. 130.\n",
      " 130. 140. 140. 140. 150. 150. 160.]\n"
     ]
    }
   ],
   "source": [
    "calorie_stats_sorted = np.sort(calorie_stats)\n",
    "print(calorie_stats_sorted)"
   ]
  },
  {
   "cell_type": "markdown",
   "id": "4dc74116",
   "metadata": {},
   "source": [
    "4. Похоже, что большинство значений выше среднего. Давайте посмотрим, является ли медиана наиболее корректным показателем набора данных.\n",
    "\n",
    "Вычислите медиану набора данных и сохраните свой ответ в median_calories. Выведите медиану, чтобы вы могли видеть, как она сравнивается со средним значением."
   ]
  },
  {
   "cell_type": "code",
   "execution_count": 18,
   "id": "b56627c3",
   "metadata": {},
   "outputs": [
    {
     "name": "stdout",
     "output_type": "stream",
     "text": [
      "110.0\n"
     ]
    }
   ],
   "source": [
    "median_calories = np.median(calorie_stats)\n",
    "print(median_calories)"
   ]
  },
  {
   "cell_type": "markdown",
   "id": "a63ab72f",
   "metadata": {},
   "source": [
    "5. В то время как медиана показывает, что по крайней мере половина наших значений составляет более 100 калорий, было бы более впечатляюще показать, что значительная часть конкурентов имеет более высокое количество калорий, чем CrunchieMunchies.\n",
    "\n",
    "Рассчитайте различные процентили и распечатайте их, пока не найдете наименьший процентиль, превышающий 60 калорий. Сохраните это значение в переменной nth_percentile."
   ]
  },
  {
   "cell_type": "code",
   "execution_count": 19,
   "id": "fe80ce03",
   "metadata": {},
   "outputs": [
    {
     "name": "stdout",
     "output_type": "stream",
     "text": [
      "20th_percentile: 100.0\n",
      "15th_percentile: 90.0\n",
      "10th_percentile: 90.0\n",
      "05th_percentile: 70.0\n",
      "03th_percentile: 55.599999999999994\n",
      "04th_percentile: 70.0\n"
     ]
    }
   ],
   "source": [
    "n20th_percentile = np.percentile(calorie_stats, 20)\n",
    "print('20th_percentile:', n20th_percentile)\n",
    "n15th_percentile = np.percentile(calorie_stats, 15)\n",
    "print('15th_percentile:', n15th_percentile)\n",
    "n10th_percentile = np.percentile(calorie_stats, 10)\n",
    "print('10th_percentile:', n10th_percentile)\n",
    "n05th_percentile = np.percentile(calorie_stats, 5)\n",
    "print('05th_percentile:', n05th_percentile)\n",
    "n03th_percentile = np.percentile(calorie_stats, 3)\n",
    "print('03th_percentile:', n03th_percentile)\n",
    "n04th_percentile = np.percentile(calorie_stats, 4)\n",
    "print('04th_percentile:', n04th_percentile)\n",
    "\n",
    "nth_percentile = n04th_percentile"
   ]
  },
  {
   "cell_type": "markdown",
   "id": "a2a3c5aa",
   "metadata": {},
   "source": [
    "6. Хотя процентиль показывает нам, что у большинства конкурентов количество калорий намного выше, это неудобная концепция для использования в маркетинговых материалах.\n",
    "\n",
    "Вместо этого давайте подсчитаем процент хлопьев, в которых содержится более 60 калорий на порцию. Сохраните свой ответ в переменной more_calories и распечатайте его"
   ]
  },
  {
   "cell_type": "code",
   "execution_count": 20,
   "id": "ade0f6ea",
   "metadata": {},
   "outputs": [
    {
     "name": "stdout",
     "output_type": "stream",
     "text": [
      "96.1038961038961\n"
     ]
    }
   ],
   "source": [
    "more_calories = calorie_stats[calorie_stats > 60].size * 100 / calorie_stats.size\n",
    "print(more_calories)"
   ]
  },
  {
   "cell_type": "markdown",
   "id": "1735d65b",
   "metadata": {},
   "source": [
    "7. Это действительно высокий процент. Это будет очень полезно, когда мы будем продвигать CrunchieMunchies. Но один вопрос заключается в том, насколько велики различия в наборе данных? Можем ли мы сделать обобщение, что в большинстве злаков содержится около 100 калорий или разброс еще больше?\n",
    "\n",
    "Рассчитайте величину отклонения, найдя стандартное отклонение, Сохраните свой ответ в calorie_std и распечатайте на терминале. Как мы можем включить эту ценность в наш анализ?"
   ]
  },
  {
   "cell_type": "code",
   "execution_count": 21,
   "id": "85c8df1f",
   "metadata": {},
   "outputs": [
    {
     "name": "stdout",
     "output_type": "stream",
     "text": [
      "19.35718533390827\n"
     ]
    }
   ],
   "source": [
    "calorie_std = np.std(calorie_stats)\n",
    "print(calorie_std)"
   ]
  },
  {
   "cell_type": "markdown",
   "id": "037455c5",
   "metadata": {},
   "source": [
    "8. Напишите короткий абзац, в котором кратко изложите свои выводы и то, как, по вашему мнению, эти данные могут быть использованы в интересах Mycrunch при маркетинге CrunchieMunchies."
   ]
  },
  {
   "cell_type": "code",
   "execution_count": null,
   "id": "f2dd5c5c",
   "metadata": {},
   "outputs": [],
   "source": []
  }
 ],
 "metadata": {
  "kernelspec": {
   "display_name": "Python 3 (ipykernel)",
   "language": "python",
   "name": "python3"
  },
  "language_info": {
   "codemirror_mode": {
    "name": "ipython",
    "version": 3
   },
   "file_extension": ".py",
   "mimetype": "text/x-python",
   "name": "python",
   "nbconvert_exporter": "python",
   "pygments_lexer": "ipython3",
   "version": "3.8.10"
  }
 },
 "nbformat": 4,
 "nbformat_minor": 5
}
